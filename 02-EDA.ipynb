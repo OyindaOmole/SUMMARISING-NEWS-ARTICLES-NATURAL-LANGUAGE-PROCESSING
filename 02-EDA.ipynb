{
 "cells": [
  {
   "cell_type": "markdown",
   "metadata": {},
   "source": [
    " ###  - EDA (Exploratory Data Analysis)\n",
    " ----"
   ]
  },
  {
   "cell_type": "markdown",
   "metadata": {},
   "source": [
    " **EDA overview:**"
   ]
  },
  {
   "cell_type": "code",
   "execution_count": 2,
   "metadata": {},
   "outputs": [
    {
     "name": "stderr",
     "output_type": "stream",
     "text": [
      "[nltk_data] Downloading package punkt to\n",
      "[nltk_data]     /Users/oyindaomole/nltk_data...\n",
      "[nltk_data]   Package punkt is already up-to-date!\n"
     ]
    }
   ],
   "source": [
    "import joblib\n",
    "\n",
    "import numpy as np\n",
    "import pandas as pd\n",
    "import matplotlib as mlp\n",
    "import seaborn as sns \n",
    "import re\n",
    "import string\n",
    "import math\n",
    "import nltk\n",
    "\n",
    "from tqdm import trange\n",
    "from nltk import tokenize\n",
    "from nltk.corpus import stopwords\n",
    "from nltk.stem import WordNetLemmatizer\n",
    "from nltk.probability import FreqDist\n",
    "from collections import Counter\n",
    "from sklearn.feature_extraction.text import CountVectorizer\n",
    "import joblib\n",
    "\n",
    "import nltk\n",
    "nltk.download('punkt')\n",
    "from nltk.tokenize import sent_tokenize"
   ]
  },
  {
   "cell_type": "code",
   "execution_count": 4,
   "metadata": {},
   "outputs": [],
   "source": [
    "# load the data - import the pkl\n",
    "\n",
    "df_processing= pd.read_csv('/Users/oyindaomole/Documents/NLP/Data/Pkl-files/cleaned_train_data.csv')\n",
    "pd.set_option('display.max_colwidth', None) # view text untrunkated - full text width"
   ]
  },
  {
   "cell_type": "code",
   "execution_count": 5,
   "metadata": {},
   "outputs": [],
   "source": [
    "de = df_processing.copy()"
   ]
  },
  {
   "cell_type": "code",
   "execution_count": 6,
   "metadata": {},
   "outputs": [
    {
     "data": {
      "text/html": [
       "<div>\n",
       "<style scoped>\n",
       "    .dataframe tbody tr th:only-of-type {\n",
       "        vertical-align: middle;\n",
       "    }\n",
       "\n",
       "    .dataframe tbody tr th {\n",
       "        vertical-align: top;\n",
       "    }\n",
       "\n",
       "    .dataframe thead th {\n",
       "        text-align: right;\n",
       "    }\n",
       "</style>\n",
       "<table border=\"1\" class=\"dataframe\">\n",
       "  <thead>\n",
       "    <tr style=\"text-align: right;\">\n",
       "      <th></th>\n",
       "      <th>id</th>\n",
       "      <th>article</th>\n",
       "      <th>highlights</th>\n",
       "    </tr>\n",
       "  </thead>\n",
       "  <tbody>\n",
       "    <tr>\n",
       "      <th>0</th>\n",
       "      <td>0001d1afc246a7964130f43ae940af6bc6c57f01</td>\n",
       "      <td>the bishop of the fargo catholic diocese in north dakota has exposed potentially hundreds of church members in fargo, grand forks and jamestown to the hepatitis a virus in late september and early october. the state health department has issued an advisory of exposure for anyone who attended five churches and took communion. bishop john folda of the fargo catholic diocese in north dakota has exposed potentially hundreds of church members in fargo, grand forks and jamestown to the hepatitis a . state immunization program manager molly howell says the risk is low, but officials feel its important to alert people to the possible exposure. the diocese announced on monday that bishop john folda is taking time off after being diagnosed with hepatitis a. the diocese says he contracted the infection through contaminated food while attending a conference for newly ordained bishops in italy last month. symptoms of hepatitis a include fever, tiredness, loss of appetite, nausea and abdominal discomfort. fargo catholic diocese in north dakota is where the bishop is located .</td>\n",
       "      <td>bishop john folda, of north dakota, is taking time off after being diagnosed he contracted the infection through contaminated food in italy church members in fargo, grand forks and jamestown could have been exposed .</td>\n",
       "    </tr>\n",
       "  </tbody>\n",
       "</table>\n",
       "</div>"
      ],
      "text/plain": [
       "                                         id  \\\n",
       "0  0001d1afc246a7964130f43ae940af6bc6c57f01   \n",
       "\n",
       "                                                                                                                                                                                                                                                                                                                                                                                                                                                                                                                                                                                                                                                                                                                                                                                                                                                                                                                                                                                                                                                                                                                   article  \\\n",
       "0   the bishop of the fargo catholic diocese in north dakota has exposed potentially hundreds of church members in fargo, grand forks and jamestown to the hepatitis a virus in late september and early october. the state health department has issued an advisory of exposure for anyone who attended five churches and took communion. bishop john folda of the fargo catholic diocese in north dakota has exposed potentially hundreds of church members in fargo, grand forks and jamestown to the hepatitis a . state immunization program manager molly howell says the risk is low, but officials feel its important to alert people to the possible exposure. the diocese announced on monday that bishop john folda is taking time off after being diagnosed with hepatitis a. the diocese says he contracted the infection through contaminated food while attending a conference for newly ordained bishops in italy last month. symptoms of hepatitis a include fever, tiredness, loss of appetite, nausea and abdominal discomfort. fargo catholic diocese in north dakota is where the bishop is located .   \n",
       "\n",
       "                                                                                                                                                                                                                 highlights  \n",
       "0  bishop john folda, of north dakota, is taking time off after being diagnosed he contracted the infection through contaminated food in italy church members in fargo, grand forks and jamestown could have been exposed .  "
      ]
     },
     "execution_count": 6,
     "metadata": {},
     "output_type": "execute_result"
    }
   ],
   "source": [
    "de.head(1)"
   ]
  },
  {
   "cell_type": "markdown",
   "metadata": {},
   "source": [
    "##### Counts and Length of Articles and Highlights:"
   ]
  },
  {
   "cell_type": "markdown",
   "metadata": {},
   "source": [
    "\n",
    "\n",
    "- Character count\n",
    "- Word count\n",
    "- Mean word length\n",
    "- Mean sentence length"
   ]
  },
  {
   "cell_type": "markdown",
   "metadata": {},
   "source": [
    "**Articles and Highlights - Average word count**"
   ]
  },
  {
   "cell_type": "markdown",
   "metadata": {},
   "source": [
    "- loop through the entire dataframe and fine the average length of each article and highlight  - print these values\n",
    "- find the minimum and maximum article and highlight length "
   ]
  },
  {
   "cell_type": "code",
   "execution_count": 7,
   "metadata": {},
   "outputs": [],
   "source": [
    "def column_count(column):\n",
    "    listss = []\n",
    "    for x, value in column.items():\n",
    "        length_of_sentence = len(str(value).split())\n",
    "        listss.append(length_of_sentence)\n",
    "\n",
    "    if not listss:  # Check if lists is empty\n",
    "        print('list is empty or error')\n",
    "        return 0  # Return 0 if the list is empty\n",
    "\n",
    "    average_words = sum(listss) / len(listss)\n",
    "    \n",
    "    return average_words\n"
   ]
  },
  {
   "cell_type": "code",
   "execution_count": 8,
   "metadata": {},
   "outputs": [
    {
     "name": "stdout",
     "output_type": "stream",
     "text": [
      "Average word count for 'article' column: 687.6412910596176\n"
     ]
    }
   ],
   "source": [
    "counts_article = column_count(df_processing['article'])\n",
    "print(f\"Average word count for 'article' column: {counts_article}\")"
   ]
  },
  {
   "cell_type": "code",
   "execution_count": 9,
   "metadata": {},
   "outputs": [
    {
     "name": "stdout",
     "output_type": "stream",
     "text": [
      "Average word count for 'highlights' column: 49.53336142912372\n"
     ]
    }
   ],
   "source": [
    "counts_highlights = column_count(df_processing['highlights'])\n",
    "print(f\"Average word count for 'highlights' column: {counts_highlights}\")"
   ]
  },
  {
   "cell_type": "markdown",
   "metadata": {},
   "source": [
    "**Article and Highlights - Minimum and Maximum word count**"
   ]
  },
  {
   "cell_type": "code",
   "execution_count": 16,
   "metadata": {},
   "outputs": [],
   "source": [
    "def column_count_min_max(column):\n",
    "    list_2 = []\n",
    "    for x, value in column.items():\n",
    "        values = len(str(value).split())\n",
    "        list_2.append(values)\n",
    "\n",
    "    if not list_2:  # Check if list is empty\n",
    "        print('list is empty or error')\n",
    "        return 0, 0  # Return 0 for  min and max if empty\n",
    "\n",
    "    minimum_value = min(list_2)\n",
    "    maximum_value = max(list_2)\n",
    "\n",
    "    print(f\"minimum count value: {minimum_value}\")\n",
    "    print(f\"maximum count value: {maximum_value}\")\n",
    "\n",
    "    return minimum_value, maximum_value"
   ]
  },
  {
   "cell_type": "code",
   "execution_count": 38,
   "metadata": {},
   "outputs": [
    {
     "name": "stdout",
     "output_type": "stream",
     "text": [
      "mode count: 531\n",
      "Minimum and Maximum word count for 'article' column: 531\n"
     ]
    }
   ],
   "source": [
    "minimum_article = column_count_min_max(df_processing['article'])\n",
    "print(f\"Minimum and Maximum word count for 'article' column: {minimum_article}\")"
   ]
  },
  {
   "cell_type": "code",
   "execution_count": 31,
   "metadata": {},
   "outputs": [
    {
     "name": "stdout",
     "output_type": "stream",
     "text": [
      "mode count: 38\n",
      "Minimum and Maximum word count for 'highlights' column: 38\n"
     ]
    }
   ],
   "source": [
    "minimum_highlights = column_count_min_max(df_processing['highlights'])\n",
    "print(f\"Minimum and Maximum word count for 'highlights' column: {minimum_highlights}\")"
   ]
  },
  {
   "cell_type": "markdown",
   "metadata": {},
   "source": [
    "**Articles and Highlights - Mode word count**"
   ]
  },
  {
   "cell_type": "code",
   "execution_count": 19,
   "metadata": {},
   "outputs": [],
   "source": [
    "import statistics"
   ]
  },
  {
   "cell_type": "code",
   "execution_count": 1,
   "metadata": {},
   "outputs": [],
   "source": [
    "# most frequent occuring word count"
   ]
  },
  {
   "cell_type": "code",
   "execution_count": 20,
   "metadata": {},
   "outputs": [],
   "source": [
    "def column_count_min_max(column):\n",
    "    list_2 = []\n",
    "    for x, value in column.items():\n",
    "        values = len(str(value).split())\n",
    "        list_2.append(values)\n",
    "\n",
    "    if not list_2:  # Check if list is empty\n",
    "        print('list is empty or error')\n",
    "        return 0 # Return 0 for  min and max if empty\n",
    "\n",
    "    mode_value = statistics.mode(list_2)\n",
    "    \n",
    "\n",
    "    print(f\"mode count: {mode_value}\")\n",
    "    \n",
    "\n",
    "    return mode_value"
   ]
  },
  {
   "cell_type": "code",
   "execution_count": 32,
   "metadata": {},
   "outputs": [
    {
     "name": "stdout",
     "output_type": "stream",
     "text": [
      "mode count: 531\n"
     ]
    }
   ],
   "source": [
    "mode_article = column_count_min_max(df_processing['article'])"
   ]
  },
  {
   "cell_type": "code",
   "execution_count": 33,
   "metadata": {},
   "outputs": [
    {
     "name": "stdout",
     "output_type": "stream",
     "text": [
      "mode count: 38\n"
     ]
    }
   ],
   "source": [
    "mode_highlights = column_count_min_max(df_processing['highlights'])"
   ]
  },
  {
   "cell_type": "markdown",
   "metadata": {},
   "source": [
    "**Sentence count for articles and hightlights**"
   ]
  },
  {
   "cell_type": "code",
   "execution_count": 23,
   "metadata": {},
   "outputs": [],
   "source": [
    "def sentence_average(column):\n",
    "    for x, value in column.items():\n",
    "        sentences = value\n",
    "        number_of_sentences = sent_tokenize(sentences)\n",
    "\n",
    "    print(len(number_of_sentences))"
   ]
  },
  {
   "cell_type": "code",
   "execution_count": 34,
   "metadata": {},
   "outputs": [
    {
     "name": "stdout",
     "output_type": "stream",
     "text": [
      "39\n"
     ]
    }
   ],
   "source": [
    "sentence_average(df_processing['article'])\n"
   ]
  },
  {
   "cell_type": "code",
   "execution_count": 35,
   "metadata": {},
   "outputs": [
    {
     "name": "stdout",
     "output_type": "stream",
     "text": [
      "4\n"
     ]
    }
   ],
   "source": [
    "sentence_average(df_processing['highlights'])\n"
   ]
  }
 ],
 "metadata": {
  "kernelspec": {
   "display_name": "Capstone",
   "language": "python",
   "name": "python3"
  },
  "language_info": {
   "codemirror_mode": {
    "name": "ipython",
    "version": 3
   },
   "file_extension": ".py",
   "mimetype": "text/x-python",
   "name": "python",
   "nbconvert_exporter": "python",
   "pygments_lexer": "ipython3",
   "version": "3.8.16"
  }
 },
 "nbformat": 4,
 "nbformat_minor": 2
}
